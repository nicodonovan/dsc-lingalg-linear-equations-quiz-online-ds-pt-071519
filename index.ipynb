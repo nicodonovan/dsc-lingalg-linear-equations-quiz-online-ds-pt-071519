{
 "cells": [
  {
   "cell_type": "markdown",
   "metadata": {},
   "source": [
    "# Systems of Linear Equations - Lab\n",
    "\n",
    "## Introduction\n",
    "The following scenarios present problems that can be solved as a system of equations while performing substitutions and eliminations as you saw in the previous lesson.\n",
    "\n",
    "* Solve these problems by hand, showing all the steps to work out the unknown variable values \n",
    "* Verify your answers by showing the calculated values satisfy all equations\n",
    "\n",
    "## Objectives\n",
    "\n",
    "In this lab you will: \n",
    "\n",
    "- Solve a system of equations using elimination and substitution\n",
    "\n",
    "## Exercise 1\n",
    "Jane paid 12 dollars for 4 cups of coffee and 4 cups of tea. 3 cups of coffee cost as much as 2 cups of tea. What would be the total cost of 5 cups of coffee and 5 cups of tea?\n",
    "\n",
    "### Solution\n",
    "\n",
    "> Let $x$ be the unit price of coffee and $y$ be the unit price of tea"
   ]
  },
  {
   "cell_type": "code",
   "execution_count": null,
   "metadata": {},
   "outputs": [],
   "source": [
    "# Your solution here \n",
    "# Answer: 5 cups of tea and 5 cups of coffee = 15 dollars"
   ]
  },
  {
   "cell_type": "markdown",
   "metadata": {},
   "source": [
    "C = coffee <br>\n",
    "T = tea <br>\n",
    "<br> \n",
    "Equation 1: 4C + 4T = 12 <br> \n",
    "Equation 2: 3C = 2T --> 3C - 2T = 0 <br>\n",
    "<br> \n",
    "solve equation 1 for C: <br> 4C = 12 - 4T <br> C = 3 - T <br> \n",
    "<br> \n",
    "substitute C into equation 2: <br> \n",
    "3(3 - T) - 2T = 0 <br> \n",
    "9 - 3T - 2T = 0 <br> \n",
    "9 - 5T = 0 <br> \n",
    "5T = 9 <br> \n",
    "**T = 9/5 (1.8)** <br> \n",
    "<br> \n",
    "substitue T to find C: <br> \n",
    "C = 3 - 1.8 <br> \n",
    "**C = 1.2**"
   ]
  },
  {
   "cell_type": "markdown",
   "metadata": {},
   "source": [
    "check the solutions: <br> \n",
    "3(1.2) = 2(1.8) <br> \n",
    "3.6 = 3.6 <br> \n",
    "<br> \n",
    "5 cups of tea and 5 cups of coffee:<br>\n",
    "5(1.8) + 5(1.2) <br>\n",
    "15 dollars"
   ]
  },
  {
   "cell_type": "markdown",
   "metadata": {},
   "source": [
    "## Exercise 2\n",
    "\n",
    "Jim has more money than Bob. If Jim gave Bob 20 dollars, they would have the same amount. If Bob gave Jim 22 dollars, however, Jim would then have twice as much as Bob. \n",
    "\n",
    "How much does each one actually have?\n",
    "\n",
    "### Solution\n",
    "> Let x be the amount of money that Jim has and y be the amount that Bob has "
   ]
  },
  {
   "cell_type": "code",
   "execution_count": null,
   "metadata": {},
   "outputs": [],
   "source": [
    "# Your solution here \n",
    "# Answer:\n",
    "# y = 106 (Bob's amount)\n",
    "# x = 146 (Jim's amount)"
   ]
  },
  {
   "cell_type": "markdown",
   "metadata": {},
   "source": [
    "x = Jim's amount <br>\n",
    "y = Bob's amount <br>\n",
    "<br>\n",
    "Equation 1: If Jim gave Bob 20 dollars, they would have the same amount <br>\n",
    "x - 20 = y + 20 <br>\n",
    "<br>\n",
    "Equation 2: If Bob gave Jim 22 dollars, however, Jim would then have twice as much as Bob <br>\n",
    "x + 22 = 2(y - 22) <br>\n",
    "<br>\n",
    "solve equation 1 for x: <br>\n",
    "x = y + 40 <br>\n",
    "<br>\n",
    "substitute the x into equation 2: <br>\n",
    "y + 40 + 22 = 2(y - 22) <br>\n",
    "y + 62 = 2y - 44 <br>\n",
    "**y = 106** <br>\n",
    "<br>\n",
    "use the solution for y to find the solution for x: <br>\n",
    "x = 106 + 40 <br>\n",
    "**x = 146** <br>"
   ]
  },
  {
   "cell_type": "markdown",
   "metadata": {},
   "source": [
    "## Exercise 3\n",
    "\n",
    "Mia has 30 coins, consisting of quarters (25 cents) and dimes (10 cents), which totals to the amount 5.70 dollars.  \n",
    "How many of each does she have?\n",
    "\n",
    "### Solution\n",
    "\n",
    "> Let x be the number of quarters and y be the number of dimes "
   ]
  },
  {
   "cell_type": "code",
   "execution_count": null,
   "metadata": {},
   "outputs": [],
   "source": [
    "# Your solution here \n",
    "# Answer:\n",
    "# x = 18 quarters\n",
    "# y = 12 dimes"
   ]
  },
  {
   "cell_type": "markdown",
   "metadata": {},
   "source": [
    "x = number of quarters <br>\n",
    "y = number of dimes <br>\n",
    "<br>\n",
    "Equation 1: Total amount of coins <br>\n",
    "x + y = 30 <br>\n",
    "Equation 2: total amount of money <br>\n",
    "0.25x + 0.10y = 5.70 <br>\n",
    "<br>\n",
    "solve equation 1 for y: <br>\n",
    "y = 30 - x <br>\n",
    "<br>\n",
    "substitute y into equation 2: <br>\n",
    "0.25x + 0.10(30 - x) = 5.70 <br>\n",
    "0.25x + 3 - 0.10x = 5.70 <br>\n",
    "0.15x = 2.70 <br>\n",
    "**x = 18** <br>\n",
    "<br>\n",
    "use solution for x to find y: <br>\n",
    "y = 30 - 18 <br>\n",
    "**y = 12** <br>"
   ]
  },
  {
   "cell_type": "markdown",
   "metadata": {},
   "source": [
    "## Level up (Optional)\n",
    "For more practice with linear equations, visit the following links for more complex equations:\n",
    "\n",
    "* https://www.transum.org/software/SW/Starter_of_the_day/Students/Simultaneous_Equations.asp?Level=6\n",
    "* https://www.transum.org/software/SW/Starter_of_the_day/Students/Simultaneous_Equations.asp?Level=7\n",
    "\n",
    "## Summary\n",
    "\n",
    "In this lesson, you learned how to solve linear equations by hand to find the coefficient values. You'll now move forward to have a deeper look into vectors and matrices and how Python and NumPy can help us solve more complex equations in an analytical context. "
   ]
  }
 ],
 "metadata": {
  "kernelspec": {
   "display_name": "Python 3",
   "language": "python",
   "name": "python3"
  },
  "language_info": {
   "codemirror_mode": {
    "name": "ipython",
    "version": 3
   },
   "file_extension": ".py",
   "mimetype": "text/x-python",
   "name": "python",
   "nbconvert_exporter": "python",
   "pygments_lexer": "ipython3",
   "version": "3.6.6"
  }
 },
 "nbformat": 4,
 "nbformat_minor": 2
}
